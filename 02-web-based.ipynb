{
 "cells": [
  {
   "cell_type": "markdown",
   "metadata": {
    "slideshow": {
     "slide_type": "slide"
    },
    "toc": "true"
   },
   "source": [
    "# Table of Contents\n",
    "[1. Interactive vs static visualisation](#Interactive-vs-static-visualisation)  \n",
    "[2. Basics of Plotly](#Basics-of-plotly)  \n",
    "[3. Using pandas](#Using-pandas)  \n",
    "[4. Using cufflinks](#Using-cufflinks)  \n",
    "[5. Interactivity](#Interactivity)  \n",
    "[6. Plotting maps](#Plotting-maps)  \n",
    "[7. More Information](#More-information)"
   ]
  },
  {
   "cell_type": "code",
   "execution_count": null,
   "metadata": {
    "collapsed": true,
    "slideshow": {
     "slide_type": "fragment"
    }
   },
   "outputs": [],
   "source": [
    "import plotly.graph_objs as go\n",
    "import plotly.offline as pltly\n",
    "import numpy as np\n",
    "import matplotlib.pyplot as plt\n",
    "import pandas as pd\n",
    "\n",
    "pltly.init_notebook_mode(connected=True)\n",
    "%matplotlib inline"
   ]
  },
  {
   "cell_type": "markdown",
   "metadata": {
    "slideshow": {
     "slide_type": "slide"
    }
   },
   "source": [
    "## Interactive vs static visualisation"
   ]
  },
  {
   "cell_type": "markdown",
   "metadata": {
    "slideshow": {
     "slide_type": "fragment"
    }
   },
   "source": [
    "### Some existing packages\n",
    "* [Plotly](https://plot.ly/) - used in this tutorial  \n",
    "* [Bokeh](bokeh.pydata.org)\n",
    "* [mpld3](http://mpld3.github.io/)\n",
    "* [Holoviews](http://holoviews.org/)"
   ]
  },
  {
   "cell_type": "markdown",
   "metadata": {
    "slideshow": {
     "slide_type": "subslide"
    }
   },
   "source": [
    "### Basic comparison"
   ]
  },
  {
   "cell_type": "code",
   "execution_count": null,
   "metadata": {
    "collapsed": true,
    "slideshow": {
     "slide_type": "fragment"
    }
   },
   "outputs": [],
   "source": [
    "plt.plot([0, 1, 3], [0, 1, 5], color='red')"
   ]
  },
  {
   "cell_type": "code",
   "execution_count": null,
   "metadata": {
    "collapsed": true,
    "slideshow": {
     "slide_type": "subslide"
    }
   },
   "outputs": [],
   "source": [
    "pltly.iplot([go.Scatter(x=[0, 1, 3], y=[0, 1, 5], line=dict(color='red'))])"
   ]
  },
  {
   "cell_type": "markdown",
   "metadata": {},
   "source": [
    "### More complex comparison\n",
    "We will return to plot this in [section 3](#Using-pandas)"
   ]
  },
  {
   "cell_type": "code",
   "execution_count": null,
   "metadata": {
    "collapsed": true
   },
   "outputs": [],
   "source": [
    "df = pd.read_csv('./data/time_series_60min_singleindex.csv', index_col=0, parse_dates=True, low_memory=False)"
   ]
  },
  {
   "cell_type": "code",
   "execution_count": null,
   "metadata": {
    "collapsed": true
   },
   "outputs": [],
   "source": [
    "de_solar = df.DE_solar_generation.dropna()"
   ]
  },
  {
   "cell_type": "code",
   "execution_count": null,
   "metadata": {
    "collapsed": true
   },
   "outputs": [],
   "source": [
    "de_solar.resample('7D').mean().plot(figsize=(12, 4))"
   ]
  },
  {
   "cell_type": "code",
   "execution_count": null,
   "metadata": {
    "collapsed": true
   },
   "outputs": [],
   "source": [
    "pltly.iplot([go.Scatter(x=de_solar.resample('7D').mean().index,\n",
    "                        y=de_solar.resample('7D').mean().values)\n",
    "            ])"
   ]
  },
  {
   "cell_type": "markdown",
   "metadata": {},
   "source": [
    "## Basics of Plotly\n",
    "\n",
    "Full API is available at: https://plot.ly/python/reference\n",
    "\n",
    "Keep this open to refer to during the session"
   ]
  },
  {
   "cell_type": "code",
   "execution_count": null,
   "metadata": {
    "collapsed": true
   },
   "outputs": [],
   "source": [
    "data = [go.Scatter(x=[0, 1, 3], y=[0, 1, 5], line=dict(color='red'))] # define data\n",
    "pltly.iplot(data) # plot data"
   ]
  },
  {
   "cell_type": "code",
   "execution_count": null,
   "metadata": {
    "collapsed": true
   },
   "outputs": [],
   "source": [
    "data  # `data` is just a list of dictionaries"
   ]
  },
  {
   "cell_type": "code",
   "execution_count": null,
   "metadata": {
    "collapsed": true
   },
   "outputs": [],
   "source": [
    "data[0]['line']['color']='blue' # Update line colour by editing dictionary\n",
    "pltly.iplot(data) # Plot data\n",
    "data"
   ]
  },
  {
   "cell_type": "code",
   "execution_count": null,
   "metadata": {
    "collapsed": true
   },
   "outputs": [],
   "source": [
    "data = [go.Scatter(x=[0, 1, 3], y=[0, 1, 5], \n",
    "                  line=dict(color='red', dash='dash', width='0.2'), # change line vis\n",
    "                  marker=dict(symbol='o', size=10, line=dict(width=2, color='black')) # change marker vis\n",
    "                  )]\n",
    "pltly.iplot(data)"
   ]
  },
  {
   "cell_type": "code",
   "execution_count": null,
   "metadata": {
    "collapsed": true
   },
   "outputs": [],
   "source": [
    "data = [go.Scatter(x=[0, 1, 3], y=[0, 1, 5],\n",
    "                   line=dict(color='red', dash='dash', width='0.2'),\n",
    "                   marker=dict(symbol='o', size=10, line=dict(width=2, color='black')),\n",
    "                   name='red line'\n",
    "                  ), # line 1\n",
    "        go.Scatter(x=[0, 1, 3], y=[5, 2, 0],\n",
    "                   line=dict(color='blue', dash='solid', width='0.1'),\n",
    "                   marker=dict(symbol='asterisk', size=10, line=dict(width=1, color='blue')),\n",
    "                   name='blue line'\n",
    "                  ) # line 2\n",
    "       ]\n",
    "pltly.iplot(data)"
   ]
  },
  {
   "cell_type": "markdown",
   "metadata": {},
   "source": [
    "### Data and Layout\n",
    "\n",
    "Where data to be plotted is given within the `data` dictionary, information related to the axes is given in the `Layout` dictionary."
   ]
  },
  {
   "cell_type": "code",
   "execution_count": null,
   "metadata": {
    "collapsed": true
   },
   "outputs": [],
   "source": [
    "data = [go.Scatter(x=[0, 1, 3], y=[0, 1, 5],\n",
    "                   line=dict(color='red', dash='dash', width='0.2'),\n",
    "                   marker=dict(symbol='o', size=10, line=dict(width=2, color='black')),\n",
    "                   name='red line'\n",
    "                  )]\n",
    "layout = go.Layout(xaxis=dict(title='the x-axis', range=[0,100]),\n",
    "                   yaxis=dict(title='the y-axis'),\n",
    "                   height=300, width=800)\n",
    "fig = go.Figure(data=data, layout=layout)\n",
    "pltly.iplot(fig)\n",
    "fig"
   ]
  },
  {
   "cell_type": "markdown",
   "metadata": {},
   "source": [
    "### Subplots - plotly tools\n",
    "For more information, see https://plot.ly/python/subplots/"
   ]
  },
  {
   "cell_type": "code",
   "execution_count": null,
   "metadata": {
    "collapsed": true
   },
   "outputs": [],
   "source": [
    "from plotly import tools"
   ]
  },
  {
   "cell_type": "code",
   "execution_count": null,
   "metadata": {
    "collapsed": true
   },
   "outputs": [],
   "source": [
    "trace1 = go.Scatter(x=[0, 1, 3], y=[0, 1, 5], name='top line')\n",
    "trace2 = go.Scatter(x=[0, 1, 3], y=[4, 3, 2], name='bottom line')\n",
    "\n",
    "# create the subplots\n",
    "fig = tools.make_subplots(rows=2, cols=1, subplot_titles=('Top figure', 'Bottom figure'))\n",
    "\n",
    "# assign traces to the specific plots\n",
    "fig.append_trace(trace1, 1, 1)\n",
    "fig.append_trace(trace2, 2, 1)\n",
    "\n",
    "layout = dict(title='Multiple Subplots', \n",
    "              xaxis=dict(range=[0,4], \n",
    "                         title='x-axis')\n",
    "             )\n",
    "fig['layout'].update(layout)\n",
    "\n",
    "pltly.iplot(fig)"
   ]
  },
  {
   "cell_type": "markdown",
   "metadata": {},
   "source": [
    "#### Sharing Axes"
   ]
  },
  {
   "cell_type": "code",
   "execution_count": null,
   "metadata": {
    "collapsed": true
   },
   "outputs": [],
   "source": [
    "trace1 = go.Scatter(x=[0, 1, 3], y=[0, 1, 5], name='top line')\n",
    "trace2 = go.Scatter(x=[0, 1, 3], y=[4, 3, 2], name='bottom line')\n",
    "\n",
    "fig = tools.make_subplots(rows=2, cols=1, \n",
    "                          subplot_titles=('Top figure', 'Bottom figure'), \n",
    "                          shared_xaxes=True,\n",
    "                          vertical_spacing=0.3)\n",
    "fig.append_trace(trace1, 1, 1)\n",
    "fig.append_trace(trace2, 2, 1) # second row is below first row\n",
    "\n",
    "layout = dict(title='Multiple Subplots', \n",
    "              xaxis=dict(range=[0,4], \n",
    "                         title='shared x-axis')\n",
    "             )\n",
    "fig['layout'].update(layout)\n",
    "\n",
    "pltly.iplot(fig)\n",
    "fig"
   ]
  },
  {
   "cell_type": "markdown",
   "metadata": {},
   "source": [
    "### Subplots - Layout method"
   ]
  },
  {
   "cell_type": "code",
   "execution_count": null,
   "metadata": {
    "collapsed": true
   },
   "outputs": [],
   "source": [
    "trace1 = go.Scatter(x=[0, 1, 3], y=[0, 1, 5], name='top line', xaxis='x2', yaxis='y2')\n",
    "trace2 = go.Scatter(x=[0, 1, 3], y=[4, 3, 2], name='bottom line', xaxis='x1', yaxis='y1')\n",
    "\n",
    "layout = dict(title='Multiple Subplots',\n",
    "              xaxis1=dict(range=[0,4], \n",
    "                          title='x-axis 1'), \n",
    "              xaxis2=dict(anchor='y2', # anchor = the axis to which this axis aligns zero\n",
    "                          range=[0,4], \n",
    "                          title='x-axis 2'), \n",
    "              yaxis1=dict(domain=[0,0.4],\n",
    "                          range=[0,5], \n",
    "                          title='y-axis 1'), \n",
    "              yaxis2=dict(domain=[0.6,1],\n",
    "                          range=[0,6], \n",
    "                          title='y-axis 2')\n",
    "                      \n",
    "             )\n",
    "\n",
    "fig = go.Figure(data=[trace1, trace2], layout=layout)\n",
    "\n",
    "pltly.iplot(fig)"
   ]
  },
  {
   "cell_type": "markdown",
   "metadata": {},
   "source": [
    "#### Sharing Axes"
   ]
  },
  {
   "cell_type": "code",
   "execution_count": null,
   "metadata": {
    "collapsed": true
   },
   "outputs": [],
   "source": [
    "trace1 = go.Scatter(x=[0, 1, 3], y=[0, 1, 5], name='top line', xaxis='x1', yaxis='y2')\n",
    "trace2 = go.Scatter(x=[0, 1, 3], y=[4, 3, 2], name='bottom line', xaxis='x1', yaxis='y1')\n",
    "\n",
    "layout = dict(title='Multiple Subplots',\n",
    "              xaxis1=dict(anchor='y1',\n",
    "                          range=[0,4], \n",
    "                          title='x-axis 1'),\n",
    "              yaxis1=dict(domain=[0,0.4],\n",
    "                          range=[0,5], \n",
    "                          title='y-axis 1'), \n",
    "              yaxis2=dict(domain=[0.6,1],\n",
    "                          range=[0,6], \n",
    "                          title='y-axis 2')\n",
    "                      \n",
    "             )\n",
    "\n",
    "fig = go.Figure(data=[trace1, trace2], layout=layout)\n",
    "\n",
    "pltly.iplot(fig)"
   ]
  },
  {
   "cell_type": "code",
   "execution_count": null,
   "metadata": {
    "collapsed": true
   },
   "outputs": [],
   "source": [
    "trace1 = go.Scatter(x=[0, 1, 3], y=[0, 1, 5], name='Line 1', xaxis='x1', yaxis='y2')\n",
    "trace2 = go.Scatter(x=[0, 1, 3], y=[4, 3, 2], name='Line 2', xaxis='x1', yaxis='y1')\n",
    "trace3 = go.Scatter(x=[0, 2, 3], y=[0, 2, 5], name='Line 3', xaxis='x2', yaxis='y2')\n",
    "trace4 = go.Scatter(x=[0, 0.5, 3.5], y=[5, 3, 1], name='Line 4', xaxis='x2', yaxis='y1')\n",
    "\n",
    "layout = dict(title='Even more Subplots',\n",
    "              xaxis1=dict(domain=[0,0.49], # left\n",
    "                          anchor='y1',\n",
    "                          range=[0,4], \n",
    "                          title='x-axis 1'),\n",
    "              xaxis2=dict(domain=[0.51,1], # right\n",
    "                          anchor='y1',\n",
    "                          range=[0,4], \n",
    "                          title='x-axis 1'),\n",
    "              yaxis1=dict(domain=[0,0.4], # bottom\n",
    "                          range=[0,6], \n",
    "                          title='y-axis 1'), \n",
    "              yaxis2=dict(domain=[0.6,1], # top\n",
    "                          range=[0,6], \n",
    "                          title='y-axis 2')\n",
    "                      \n",
    "             )\n",
    "\n",
    "fig = go.Figure(data=[trace1, trace2, trace3, trace4], layout=layout)\n",
    "\n",
    "pltly.iplot(fig)"
   ]
  },
  {
   "cell_type": "markdown",
   "metadata": {},
   "source": [
    "### Exercise: basics"
   ]
  },
  {
   "cell_type": "code",
   "execution_count": null,
   "metadata": {
    "collapsed": true
   },
   "outputs": [],
   "source": [
    "#\n",
    "# Data\n",
    "#\n",
    "\n",
    "ldc = [1, 0.8, 0.75, 0.7, 0.65, 0.64, 0.63, 0.62, 0.61, 0.6, 0.5, 0.4, 0.3, 0.2, 0.1]\n",
    "coal = [0.43] * len(ldc)\n",
    "x_values = np.linspace(0, 8760, num=len(ldc))"
   ]
  },
  {
   "cell_type": "markdown",
   "metadata": {},
   "source": [
    "<img src=\"web-based-1.svg\" />"
   ]
  },
  {
   "cell_type": "markdown",
   "metadata": {},
   "source": [
    "## Using Pandas"
   ]
  },
  {
   "cell_type": "code",
   "execution_count": null,
   "metadata": {
    "collapsed": true
   },
   "outputs": [],
   "source": [
    "data = [go.Scatter(x=de_solar.resample('7D').mean().index,\n",
    "                   y=de_solar.resample('7D').mean().values)]\n",
    "layout = dict(height=400, width = 800)\n",
    "fig = go.Figure(data=data, layout=layout)\n",
    "pltly.iplot(fig)"
   ]
  },
  {
   "cell_type": "code",
   "execution_count": null,
   "metadata": {
    "collapsed": true
   },
   "outputs": [],
   "source": [
    "trace_week = go.Scatter(x=de_solar.resample('7D').mean().index,\n",
    "                        y=de_solar.resample('7D').mean().values,\n",
    "                        name='weekly')\n",
    "trace_month = go.Scatter(x=de_solar.resample('1M').mean().index,\n",
    "                         y=de_solar.resample('1M').mean().values,\n",
    "                         mode='markers', \n",
    "                         marker=dict(symbol='line-ew-open', color='orange', size=5), # symbol names given in API reference\n",
    "                         name='monthly')\n",
    "layout = dict(height=400, width = 800)\n",
    "fig = go.Figure(data=[trace_week, trace_month], layout=layout)\n",
    "pltly.iplot(fig)"
   ]
  },
  {
   "cell_type": "code",
   "execution_count": null,
   "metadata": {
    "collapsed": true
   },
   "outputs": [],
   "source": [
    "df_wind = df.loc[:, [\n",
    "    'CZ_wind_generation',\n",
    "    'DK_wind_offshore_generation',\n",
    "    'DK_wind_onshore_generation',\n",
    "    'SE_wind_generation'\n",
    "]]\n",
    "\n",
    "df_wind = df_wind.rename(columns={\n",
    "    k: k.replace('_wind_', ' ').replace('generation', '') for k in df_wind.columns\n",
    "})\n",
    "\n",
    "data = [] # initialise the data list\n",
    "\n",
    "# Iterate over the columns, adding each scatter to our data list\n",
    "for column in df_wind.columns:\n",
    "    data.append(go.Scatter(x=df_wind.resample('1M').mean()[column].loc['2012':'2015-06'].index,\n",
    "                       y=df_wind.resample('1M').mean()[column].loc['2012':'2015-06'].values,\n",
    "                       name=column))\n",
    "layout = dict(height=400, width = 800)\n",
    "fig = go.Figure(data=data, layout=layout)\n",
    "pltly.iplot(fig)"
   ]
  },
  {
   "cell_type": "markdown",
   "metadata": {},
   "source": [
    "### Using cufflinks"
   ]
  },
  {
   "cell_type": "code",
   "execution_count": null,
   "metadata": {
    "collapsed": true
   },
   "outputs": [],
   "source": [
    "import cufflinks as cf"
   ]
  },
  {
   "cell_type": "code",
   "execution_count": null,
   "metadata": {
    "collapsed": true
   },
   "outputs": [],
   "source": [
    "cf.set_config_file(offline=True, world_readable=True, theme='white')\n",
    "df_wind.resample('1M').mean().loc['2012':'2015-06'].iplot(kind='scatter')"
   ]
  },
  {
   "cell_type": "code",
   "execution_count": null,
   "metadata": {
    "collapsed": true
   },
   "outputs": [],
   "source": [
    "layout = cf.Layout(xaxis=dict(showgrid=False),yaxis=dict(showgrid=False))\n",
    "df_wind.resample('12M').mean().loc['2012':].iplot(kind='barh', \n",
    "                                                  barmode='stack', \n",
    "                                                  layout_update=layout)"
   ]
  },
  {
   "cell_type": "markdown",
   "metadata": {},
   "source": [
    "### Colourmaps\n",
    "For more information, see https://plot.ly/pandas/colorlover/ and http://seaborn.pydata.org/tutorial/color_palettes.html"
   ]
  },
  {
   "cell_type": "code",
   "execution_count": null,
   "metadata": {
    "collapsed": true
   },
   "outputs": [],
   "source": [
    "import colorlover as cl\n",
    "import seaborn as sns"
   ]
  },
  {
   "cell_type": "code",
   "execution_count": null,
   "metadata": {
    "collapsed": true
   },
   "outputs": [],
   "source": [
    "colormap = cl.scales[str(len(df_wind.columns))]['seq']['Blues']\n",
    "df_wind.resample('1M').mean().loc['2012':'2015-06'].iplot(kind='scatter', colors=colormap)"
   ]
  },
  {
   "cell_type": "code",
   "execution_count": null,
   "metadata": {
    "collapsed": true
   },
   "outputs": [],
   "source": [
    "colormap = sns.color_palette('colorblind', len(df_wind.columns)).as_hex()\n",
    "df_wind.resample('1M').mean().loc['2012':'2015-06'].iplot(kind='scatter', colors=colormap)"
   ]
  },
  {
   "cell_type": "markdown",
   "metadata": {},
   "source": [
    "## Interactivity"
   ]
  },
  {
   "cell_type": "code",
   "execution_count": null,
   "metadata": {
    "collapsed": true
   },
   "outputs": [],
   "source": [
    "# - Use `legendgroup` to group datasets, they will turn on/off together when legend entries are clicked - #\n",
    "data = []\n",
    "\n",
    "for column in df_wind.columns:\n",
    "    if 'DK' in column:\n",
    "        group = 'DK'\n",
    "    else:\n",
    "        group = column\n",
    "    data.append(go.Scatter(x=df_wind.resample('1M').mean()[column].loc['2012':'2015-06'].index,\n",
    "                           y=df_wind.resample('1M').mean()[column].loc['2012':'2015-06'].values,\n",
    "                           name=column,\n",
    "                           legendgroup=group))\n",
    "layout = dict(height=400, width = 800)\n",
    "fig = go.Figure(data=data, layout=layout)\n",
    "pltly.iplot(fig)"
   ]
  },
  {
   "cell_type": "code",
   "execution_count": null,
   "metadata": {
    "collapsed": true
   },
   "outputs": [],
   "source": [
    "# - Use `hoverinfo` to change the information given on hovering over the data - #\n",
    "data = []\n",
    "df_wind_monthly = df_wind.resample('1M').mean().loc['2012':'2015-06']\n",
    "for column in df_wind.columns:\n",
    "    if 'DK' in column:\n",
    "        group = 'DK'\n",
    "    else:\n",
    "        group = column\n",
    "    data.append(go.Scatter(x=df_wind_monthly[column].index,\n",
    "                           y=df_wind_monthly[column].values,\n",
    "                           text=np.round(df_wind_monthly[column].values,0),\n",
    "                           name=column,\n",
    "                           hoverinfo='x+text'))\n",
    "layout = dict(height=400, width = 800)\n",
    "fig = go.Figure(data=data, layout=layout)\n",
    "pltly.iplot(fig)"
   ]
  },
  {
   "cell_type": "markdown",
   "metadata": {
    "collapsed": true
   },
   "source": [
    "## Exercise 2"
   ]
  },
  {
   "cell_type": "markdown",
   "metadata": {},
   "source": [
    "Your task: visualise the monthly and annual means from the df_wind data from above, using subplots and connected layout.\n",
    "\n",
    "* You want to resample the data, e.g. with df_wind.resample('12M').mean()\n",
    "* As with go.Scatter(), you can plot bar charts with go.Bar()\n",
    "* Bars can be stacked by editing the layout function to include `barmode='stack'` \n",
    "* Try cufflinks and pure plotly to test their strengths and weaknesses\n",
    "\n",
    "Your output might look something like:\n",
    "\n",
    "<img src=\"web-based-2.png\" />"
   ]
  },
  {
   "cell_type": "markdown",
   "metadata": {},
   "source": [
    "## Plotting maps"
   ]
  },
  {
   "cell_type": "code",
   "execution_count": null,
   "metadata": {
    "collapsed": true
   },
   "outputs": [],
   "source": [
    "df_map = pd.read_csv('./data/conventional_power_plants_EU.csv')\n",
    "df_map = df_map.dropna(subset=['lat', 'lon'])\n",
    "data = []\n",
    "opacity = (df_map.capacity/df_map.capacity.max())/2 + 0.5\n",
    "text = df_map.energy_source + ' ' + df_map.capacity.astype(str) + 'MW' + ' ' + df_map.country\n",
    "colors = sns.color_palette('colorblind', 4).as_hex()\n",
    "energy_sources = set(df_map.energy_source_level_1)\n",
    "for source in energy_sources:\n",
    "    color = colors[list(energy_sources).index(source)]\n",
    "    data.append(dict(type='scattergeo',\n",
    "                     lon=df_map.loc[df_map.energy_source_level_1==source].lon,\n",
    "                     lat=df_map.loc[df_map.energy_source_level_1==source].lat,\n",
    "                     text= text.loc[df_map.energy_source_level_1==source],\n",
    "                     hoverinfo='text',\n",
    "                     name=source,\n",
    "                     marker=dict(opacity=opacity.loc[df_map.energy_source_level_1==source], \n",
    "                                 color=color,\n",
    "                                 size=5, \n",
    "                                 line=dict(width=1, color='black'))))\n",
    "layout=dict(geo=dict(resolution=50,\n",
    "                     scope='europe',\n",
    "                     projection=dict(type='mercator'),\n",
    "                     showocean=True,\n",
    "                     oceancolor='rgb(151,182,225)',\n",
    "                     showcoastlines=True,\n",
    "                     coastlinecolor='red'))\n",
    "fig = go.Figure(data=data,layout=layout)\n",
    "pltly.iplot(fig)"
   ]
  },
  {
   "cell_type": "markdown",
   "metadata": {},
   "source": [
    "## More information\n",
    "\n",
    "See https://plot.ly/python/reference for the full plotly API library "
   ]
  }
 ],
 "metadata": {
  "kernelspec": {
   "display_name": "Python 3",
   "language": "python",
   "name": "python3"
  },
  "language_info": {
   "codemirror_mode": {
    "name": "ipython",
    "version": 3
   },
   "file_extension": ".py",
   "mimetype": "text/x-python",
   "name": "python",
   "nbconvert_exporter": "python",
   "pygments_lexer": "ipython3",
   "version": "3.5.3"
  },
  "toc": {
   "colors": {
    "hover_highlight": "#DAA520",
    "running_highlight": "#FF0000",
    "selected_highlight": "#FFD700"
   },
   "moveMenuLeft": true,
   "nav_menu": {
    "height": "68px",
    "width": "323px"
   },
   "navigate_menu": true,
   "number_sections": false,
   "sideBar": true,
   "threshold": 4,
   "toc_cell": true,
   "toc_section_display": "block",
   "toc_window_display": true,
   "widenNotebook": false
  }
 },
 "nbformat": 4,
 "nbformat_minor": 2
}
