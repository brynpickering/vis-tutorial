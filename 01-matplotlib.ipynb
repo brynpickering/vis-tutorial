{
 "cells": [
  {
   "cell_type": "markdown",
   "metadata": {
    "toc": "true"
   },
   "source": [
    "# Table of Contents\n",
    " <p><div class=\"lev1 toc-item\"><a href=\"#Basics-of-matplotlib\" data-toc-modified-id=\"Basics-of-matplotlib-1\"><span class=\"toc-item-num\">1&nbsp;&nbsp;</span>Basics of matplotlib</a></div><div class=\"lev2 toc-item\"><a href=\"#The-concept-of-&quot;axes&quot;-in-matplotlib\" data-toc-modified-id=\"The-concept-of-&quot;axes&quot;-in-matplotlib-11\"><span class=\"toc-item-num\">1.1&nbsp;&nbsp;</span>The concept of \"axes\" in matplotlib</a></div><div class=\"lev1 toc-item\"><a href=\"#Using-pandas\" data-toc-modified-id=\"Using-pandas-2\"><span class=\"toc-item-num\">2&nbsp;&nbsp;</span>Using pandas</a></div><div class=\"lev1 toc-item\"><a href=\"#Adding-seaborn-to-the-mix\" data-toc-modified-id=\"Adding-seaborn-to-the-mix-3\"><span class=\"toc-item-num\">3&nbsp;&nbsp;</span>Adding seaborn to the mix</a></div><div class=\"lev1 toc-item\"><a href=\"#More-on-palettes-and-color-choice\" data-toc-modified-id=\"More-on-palettes-and-color-choice-4\"><span class=\"toc-item-num\">4&nbsp;&nbsp;</span>More on palettes and color choice</a></div><div class=\"lev1 toc-item\"><a href=\"#More-on-cleaning-up-axes-and-other-plot-elements\" data-toc-modified-id=\"More-on-cleaning-up-axes-and-other-plot-elements-5\"><span class=\"toc-item-num\">5&nbsp;&nbsp;</span>More on cleaning up axes and other plot elements</a></div><div class=\"lev1 toc-item\"><a href=\"#Plotting-maps\" data-toc-modified-id=\"Plotting-maps-6\"><span class=\"toc-item-num\">6&nbsp;&nbsp;</span>Plotting maps</a></div><div class=\"lev1 toc-item\"><a href=\"#Further-reading\" data-toc-modified-id=\"Further-reading-7\"><span class=\"toc-item-num\">7&nbsp;&nbsp;</span>Further reading</a></div>"
   ]
  },
  {
   "cell_type": "code",
   "execution_count": null,
   "metadata": {
    "collapsed": true
   },
   "outputs": [],
   "source": [
    "import numpy as np\n",
    "import matplotlib.pyplot as plt\n",
    "\n",
    "%matplotlib inline"
   ]
  },
  {
   "cell_type": "markdown",
   "metadata": {},
   "source": [
    "## Basics of matplotlib"
   ]
  },
  {
   "cell_type": "code",
   "execution_count": null,
   "metadata": {
    "collapsed": true
   },
   "outputs": [],
   "source": [
    "plt.plot([0, 1, 3], [0, 1, 5], color='red')"
   ]
  },
  {
   "cell_type": "code",
   "execution_count": null,
   "metadata": {
    "collapsed": true
   },
   "outputs": [],
   "source": [
    "plt.plot(\n",
    "    [0, 1, 3], [0, 1, 5],\n",
    "    color='red', marker='o', lw=0.2, ls=':',\n",
    "    markeredgewidth=2.0, markeredgecolor='black', markersize=10\n",
    ")\n",
    "\n",
    "plt.xlabel('The x-axis')\n",
    "plt.title('The title')"
   ]
  },
  {
   "cell_type": "markdown",
   "metadata": {},
   "source": [
    "### The concept of \"axes\" in matplotlib"
   ]
  },
  {
   "cell_type": "markdown",
   "metadata": {},
   "source": [
    "The ``Axes`` class most of the figure elements we care about, like: the x- and y-axis, lines, polygons, text, etc.\n",
    "\n",
    "We can create an ``Axes`` ourselves, if we don't, ``plot.plt()`` will implicitly create one.\n",
    "\n",
    "``plot.plt()`` will draw on the currently active ``Axes``.\n",
    "\n",
    "Because of ``%matplotlib inline`` the notebook displays the resulting plot straight away.\n",
    "\n",
    "By interacting with an ``Axes`` object we can however manipulate the plot in many ways.\n",
    "\n",
    "See http://matplotlib.org/api/axes_api.html."
   ]
  },
  {
   "cell_type": "code",
   "execution_count": null,
   "metadata": {
    "collapsed": true
   },
   "outputs": [],
   "source": [
    "fig = plt.figure(figsize=(12, 4))  # Create a figure object to hold our Axes\n",
    "ax = plt.subplot()  # Create an empty Axes\n",
    "\n",
    "# Draw something on the Axes\n",
    "plt.plot(\n",
    "    [0, 1, 3], [0, 1, 5],\n",
    "    color='red', marker='o', lw=0.2, ls=':',\n",
    "    markeredgewidth=2.0, markeredgecolor='black', markersize=10\n",
    ")"
   ]
  },
  {
   "cell_type": "code",
   "execution_count": null,
   "metadata": {
    "collapsed": true
   },
   "outputs": [],
   "source": [
    "# Set x-axis limits\n",
    "plt.xlim(0, 100)\n",
    "\n",
    "# what happens here?"
   ]
  },
  {
   "cell_type": "code",
   "execution_count": null,
   "metadata": {
    "collapsed": true
   },
   "outputs": [],
   "source": [
    "fig = plt.figure(figsize=(12, 4))\n",
    "ax = plt.subplot()\n",
    "\n",
    "plt.plot(\n",
    "    [0, 1, 3], [0, 1, 5],\n",
    "    color='red', marker='o', lw=0.2, ls=':',\n",
    "    markeredgewidth=2.0, markeredgecolor='black', markersize=10\n",
    ")\n",
    "\n",
    "# Set the limits before the plot is shown in the notebook!\n",
    "plt.xlim(0, 100)"
   ]
  },
  {
   "cell_type": "markdown",
   "metadata": {},
   "source": [
    "### plt.xlim() vs ax.set_xlim()"
   ]
  },
  {
   "cell_type": "markdown",
   "metadata": {},
   "source": [
    "``plt`` will use the currently active Axes.\n",
    "\n",
    "Much functionality is duplicated and exists as methods on the Axes objects, too."
   ]
  },
  {
   "cell_type": "code",
   "execution_count": null,
   "metadata": {
    "collapsed": true
   },
   "outputs": [],
   "source": [
    "fig = plt.figure(figsize=(12, 4))\n",
    "ax = plt.subplot()\n",
    "\n",
    "plt.plot(\n",
    "    [0, 1, 3], [0, 1, 5],\n",
    "    color='red', marker='o', lw=0.2, ls=':',\n",
    "    markeredgewidth=2.0, markeredgecolor='black', markersize=10\n",
    ")\n",
    "\n",
    "# Set x-axis limits\n",
    "ax.set_xlim(0, 100)"
   ]
  },
  {
   "cell_type": "markdown",
   "metadata": {},
   "source": [
    "### Clipping at the edge of the axis"
   ]
  },
  {
   "cell_type": "code",
   "execution_count": null,
   "metadata": {
    "collapsed": true
   },
   "outputs": [],
   "source": [
    "fig = plt.figure(figsize=(12, 4))\n",
    "ax = plt.subplot()\n",
    "\n",
    "plt.plot(\n",
    "    [0, 1, 3], [0, 1, 5],\n",
    "    color='red', marker='o', lw=0.2, ls=':',\n",
    "    markeredgewidth=2.0, markeredgecolor='black', markersize=10,\n",
    "    clip_on=False, zorder=1000000\n",
    ")\n",
    "\n",
    "ax.set_xlim(0, 5)"
   ]
  },
  {
   "cell_type": "markdown",
   "metadata": {},
   "source": [
    "### Subplots"
   ]
  },
  {
   "cell_type": "code",
   "execution_count": null,
   "metadata": {
    "collapsed": true
   },
   "outputs": [],
   "source": [
    "fig = plt.figure(figsize=(12, 4))\n",
    "\n",
    "# subplot(nrows, ncols, plot_number)\n",
    "ax0 = plt.subplot(211)\n",
    "\n",
    "plt.plot(\n",
    "    [0, 1, 3], [0, 1, 5],\n",
    "    color='red', marker='o', lw=0.2, ls=':',\n",
    "    markeredgewidth=2.0, markeredgecolor='black', markersize=10,\n",
    "    clip_on=False, zorder=1000000\n",
    ")\n",
    "\n",
    "ax1 = plt.subplot(212)\n",
    "\n",
    "plt.plot(\n",
    "    [0, 1, 3], [4, 3, 2],\n",
    "    color='blue', marker='o', lw=0.2, ls=':',\n",
    "    markeredgewidth=2.0, markeredgecolor='black', markersize=10\n",
    ")\n",
    "\n",
    "\n",
    "# We can iterate over axes\n",
    "for a in [ax0, ax1]:\n",
    "    a.set_ylim(0, 6)\n",
    "\n",
    "    \n",
    "plt.tight_layout()  # Adjusts the space between subplots"
   ]
  },
  {
   "cell_type": "code",
   "execution_count": null,
   "metadata": {
    "collapsed": true
   },
   "outputs": [],
   "source": [
    "lines = ax0.get_lines()"
   ]
  },
  {
   "cell_type": "code",
   "execution_count": null,
   "metadata": {
    "collapsed": true
   },
   "outputs": [],
   "source": [
    "lines"
   ]
  },
  {
   "cell_type": "code",
   "execution_count": null,
   "metadata": {
    "collapsed": true
   },
   "outputs": [],
   "source": [
    "lines[0].set_color('green')"
   ]
  },
  {
   "cell_type": "code",
   "execution_count": null,
   "metadata": {
    "collapsed": true
   },
   "outputs": [],
   "source": [
    "lines[0].get_color()"
   ]
  },
  {
   "cell_type": "code",
   "execution_count": null,
   "metadata": {
    "collapsed": true,
    "scrolled": true
   },
   "outputs": [],
   "source": [
    "fig = plt.figure(figsize=(12, 4))\n",
    "\n",
    "# subplot(nrows, ncols, plot_number)\n",
    "ax0 = plt.subplot(211)\n",
    "\n",
    "plt.plot(\n",
    "    [0, 1, 3], [0, 1, 5],\n",
    "    color='red', marker='o', lw=0.2, ls=':',\n",
    "    markeredgewidth=2.0, markeredgecolor='black', markersize=10,\n",
    "    clip_on=False, zorder=1000000\n",
    ")\n",
    "\n",
    "ax1 = plt.subplot(212)\n",
    "\n",
    "plt.plot(\n",
    "    [0, 1, 3], [4, 3, 2],\n",
    "    color='blue', marker='o', lw=0.2, ls=':',\n",
    "    markeredgewidth=2.0, markeredgecolor='black', markersize=10\n",
    ")\n",
    "\n",
    "lines = ax0.get_lines()\n",
    "lines[0].set_color('green')"
   ]
  },
  {
   "cell_type": "markdown",
   "metadata": {},
   "source": [
    "### Legend"
   ]
  },
  {
   "cell_type": "code",
   "execution_count": null,
   "metadata": {
    "collapsed": true
   },
   "outputs": [],
   "source": [
    "fig = plt.figure(figsize=(12, 4))\n",
    "ax = plt.subplot()\n",
    "\n",
    "plt.plot(\n",
    "    [0, 1, 3], [0, 1, 5],\n",
    "    color='red', marker='o', lw=0.2, ls=':',\n",
    "    markeredgewidth=2.0, markeredgecolor='black', markersize=10,\n",
    "    clip_on=False, zorder=1000000,\n",
    "    label='Important data'\n",
    ")\n",
    "\n",
    "plt.legend()"
   ]
  },
  {
   "cell_type": "markdown",
   "metadata": {},
   "source": [
    "Again, we can use methods on the resulting legend object to customise it."
   ]
  },
  {
   "cell_type": "code",
   "execution_count": null,
   "metadata": {
    "collapsed": true
   },
   "outputs": [],
   "source": [
    "fig = plt.figure(figsize=(12, 4))\n",
    "ax = plt.subplot()\n",
    "\n",
    "plt.plot(\n",
    "    [0, 1, 3], [0, 1, 5],\n",
    "    color='red', marker='o', lw=0.2, ls=':',\n",
    "    markeredgewidth=2.0, markeredgecolor='black', markersize=10,\n",
    "    clip_on=False, zorder=1000000,\n",
    "    label='Important data'\n",
    ")\n",
    "\n",
    "legend = plt.legend()\n",
    "legend.draw_frame(False)\n"
   ]
  },
  {
   "cell_type": "markdown",
   "metadata": {},
   "source": [
    "### Exercise: basics"
   ]
  },
  {
   "cell_type": "markdown",
   "metadata": {},
   "source": [
    "Use interactive auto-completion in notebook to get help.\n",
    "\n",
    "For example, type ``ax.get_`` + ``<tab>`` to see what information you can get from the axes.\n",
    "\n",
    "Use ``?`` to display help on a function or method, e.g.: ``plt.xlim?``\n",
    "\n",
    "The border around the axes is called \"spines\". Look at ``ax.spines`` and see what you can do with that...\n",
    "\n",
    "To get grid lines, you can use ``ax.xaxis.grid()`` and ``ax.yaxis.grid()``.\n",
    "\n",
    "To set font size, you can use ``plt.rc('font', size=14)``.\n",
    "\n",
    "Your output might look something like:\n",
    "\n",
    "<img src=\"01-figure-ex01.png\" />\n"
   ]
  },
  {
   "cell_type": "code",
   "execution_count": null,
   "metadata": {
    "collapsed": true
   },
   "outputs": [],
   "source": [
    "#\n",
    "# Data\n",
    "#\n",
    "\n",
    "ldc = [1, 0.8, 0.75, 0.7, 0.65, 0.64, 0.63, 0.62, 0.61, 0.6, 0.5, 0.4, 0.3, 0.2, 0.1]\n",
    "coal = [0.43] * len(ldc)\n",
    "x_values = np.linspace(0, 8760, num=len(ldc))\n"
   ]
  },
  {
   "cell_type": "markdown",
   "metadata": {},
   "source": [
    "## Using pandas"
   ]
  },
  {
   "cell_type": "markdown",
   "metadata": {},
   "source": [
    "Pandas is __the__ tool for working with time series data.\n",
    "\n",
    "With pandas we will use a lot of method chaining: ``dataframe.method1().method2().method3()``"
   ]
  },
  {
   "cell_type": "code",
   "execution_count": null,
   "metadata": {
    "collapsed": true
   },
   "outputs": [],
   "source": [
    "import pandas as pd"
   ]
  },
  {
   "cell_type": "code",
   "execution_count": null,
   "metadata": {
    "collapsed": true
   },
   "outputs": [],
   "source": [
    "df = pd.read_csv('./data/time_series_60min_singleindex.csv', index_col=0, parse_dates=True, low_memory=False)"
   ]
  },
  {
   "cell_type": "code",
   "execution_count": null,
   "metadata": {
    "collapsed": true
   },
   "outputs": [],
   "source": [
    "df.head(2)"
   ]
  },
  {
   "cell_type": "code",
   "execution_count": null,
   "metadata": {
    "collapsed": true
   },
   "outputs": [],
   "source": [
    "de_solar = df.DE_solar_generation.dropna()"
   ]
  },
  {
   "cell_type": "code",
   "execution_count": null,
   "metadata": {
    "collapsed": true
   },
   "outputs": [],
   "source": [
    "de_solar.plot()  # Simply tell the dataframe to plot itself"
   ]
  },
  {
   "cell_type": "code",
   "execution_count": null,
   "metadata": {
    "collapsed": true
   },
   "outputs": [],
   "source": [
    "de_solar.plot(figsize=(12, 4))"
   ]
  },
  {
   "cell_type": "code",
   "execution_count": null,
   "metadata": {
    "collapsed": true
   },
   "outputs": [],
   "source": [
    "de_solar.resample('7D').mean().plot(figsize=(12, 4))"
   ]
  },
  {
   "cell_type": "code",
   "execution_count": null,
   "metadata": {
    "collapsed": true
   },
   "outputs": [],
   "source": [
    "ax = de_solar.resample('7D').mean().plot(figsize=(12, 4))\n",
    "\n",
    "de_solar.resample('1M').mean().plot(ax=ax, lw=0, marker='_', markeredgewidth=3)"
   ]
  },
  {
   "cell_type": "markdown",
   "metadata": {},
   "source": [
    "### Setting the color palette and other visual improvements"
   ]
  },
  {
   "cell_type": "code",
   "execution_count": null,
   "metadata": {
    "collapsed": true
   },
   "outputs": [],
   "source": [
    "df_wind = df.loc[:, [\n",
    "    'CZ_wind_generation',\n",
    "    'DK_wind_offshore_generation',\n",
    "    'DK_wind_onshore_generation',\n",
    "    'SE_wind_generation'\n",
    "]]\n",
    "\n",
    "df_wind = df_wind.rename(columns={\n",
    "    k: k.replace('_wind_', ' ').replace('generation', '') for k in df_wind.columns\n",
    "})"
   ]
  },
  {
   "cell_type": "code",
   "execution_count": null,
   "metadata": {
    "collapsed": true
   },
   "outputs": [],
   "source": [
    "df_wind.head(2)"
   ]
  },
  {
   "cell_type": "code",
   "execution_count": null,
   "metadata": {
    "collapsed": true
   },
   "outputs": [],
   "source": [
    "df_wind.plot(figsize=(15, 5))"
   ]
  },
  {
   "cell_type": "code",
   "execution_count": null,
   "metadata": {
    "collapsed": true
   },
   "outputs": [],
   "source": [
    "df_wind.resample('1M').mean().plot(figsize=(15, 5))"
   ]
  },
  {
   "cell_type": "code",
   "execution_count": null,
   "metadata": {
    "collapsed": true
   },
   "outputs": [],
   "source": [
    "(df_wind.resample('1M').mean()\n",
    "        .loc['2012':'2015-06']\n",
    "        .plot(figsize=(15, 5),\n",
    "              colormap='Accent',\n",
    "              alpha=0.75,\n",
    "              lw=2\n",
    "             ))\n",
    "\n",
    "plt.ylabel('Mean monthly generation (MWh)')\n",
    "plt.xlabel('')"
   ]
  },
  {
   "cell_type": "markdown",
   "metadata": {},
   "source": [
    "Available colormaps in matplotlib:\n",
    "http://matplotlib.org/examples/color/colormaps_reference.html\n"
   ]
  },
  {
   "cell_type": "markdown",
   "metadata": {},
   "source": [
    "## Adding seaborn to the mix"
   ]
  },
  {
   "cell_type": "markdown",
   "metadata": {},
   "source": [
    "\"Seaborn is a Python visualization library based on matplotlib. It provides a high-level interface for drawing attractive statistical graphics.\"\n",
    "    \n",
    "http://seaborn.pydata.org/\n",
    "\n",
    "Very handy to get nice statistical visualisations up and running quickly. See examples: http://seaborn.pydata.org/examples/index.html\n",
    "\n"
   ]
  },
  {
   "cell_type": "code",
   "execution_count": null,
   "metadata": {
    "collapsed": true
   },
   "outputs": [],
   "source": [
    "import seaborn as sns"
   ]
  },
  {
   "cell_type": "code",
   "execution_count": null,
   "metadata": {
    "collapsed": true
   },
   "outputs": [],
   "source": [
    "# Just importing seaborn is enough to change the look of matplotlib plots quite a bit\n",
    "\n",
    "ax = de_solar.resample('7D').mean().plot(figsize=(12, 4))"
   ]
  },
  {
   "cell_type": "markdown",
   "metadata": {},
   "source": [
    "Seaborn comes with different built-in styles to quickly change the look and feel of its output.\n",
    "\n",
    "http://seaborn.pydata.org/tutorial/aesthetics.html"
   ]
  },
  {
   "cell_type": "code",
   "execution_count": null,
   "metadata": {
    "collapsed": true
   },
   "outputs": [],
   "source": [
    "# to permanently apply a style, you can also do:\n",
    "# sns.set_style('ticks')\n",
    "\n",
    "\n",
    "with sns.axes_style('ticks'):\n",
    "    ax = de_solar.resample('7D').mean().plot(figsize=(12, 4))"
   ]
  },
  {
   "cell_type": "markdown",
   "metadata": {},
   "source": [
    "sns.despine() gets rid of unnecessary axes"
   ]
  },
  {
   "cell_type": "code",
   "execution_count": null,
   "metadata": {
    "collapsed": true
   },
   "outputs": [],
   "source": [
    "with sns.axes_style('ticks'):\n",
    "    ax = de_solar.resample('7D').mean().plot(figsize=(12, 4))\n",
    "\n",
    "sns.despine()\n",
    "# sns.despine(offset=5)\n",
    "ax.set_xlabel('')"
   ]
  },
  {
   "cell_type": "markdown",
   "metadata": {},
   "source": [
    "Seaborn has some powerful built-in statistical plotting capabilities."
   ]
  },
  {
   "cell_type": "code",
   "execution_count": null,
   "metadata": {
    "collapsed": true
   },
   "outputs": [],
   "source": [
    "wind_cfs = df_wind.loc['2015'].resample('1M').mean()\n",
    "wind_cfs.index = ['Jan', 'Feb', 'Mar', 'Apr', 'May', 'Jun', 'Jul', 'Aug', 'Sep', 'Oct', 'Nov', 'Dec']\n",
    "wind_cfs = wind_cfs / (wind_cfs.max() * 1.1)\n",
    "\n",
    "wind_cfs"
   ]
  },
  {
   "cell_type": "code",
   "execution_count": null,
   "metadata": {
    "collapsed": true
   },
   "outputs": [],
   "source": [
    "sns.heatmap(\n",
    "    wind_cfs, annot=True, linewidths=.5\n",
    ")"
   ]
  },
  {
   "cell_type": "code",
   "execution_count": null,
   "metadata": {
    "collapsed": true
   },
   "outputs": [],
   "source": [
    "sns.boxplot(data=wind_cfs, palette='Set3')"
   ]
  },
  {
   "cell_type": "code",
   "execution_count": null,
   "metadata": {
    "collapsed": true
   },
   "outputs": [],
   "source": [
    "sns.violinplot(data=wind_cfs, palette='Set3', bw=.2, cut=1, linewidth=1)"
   ]
  },
  {
   "cell_type": "markdown",
   "metadata": {},
   "source": [
    "More examples at http://seaborn.pydata.org/examples/index.html"
   ]
  },
  {
   "cell_type": "markdown",
   "metadata": {},
   "source": [
    "### Exercise: using pandas and seaborn"
   ]
  },
  {
   "cell_type": "markdown",
   "metadata": {},
   "source": [
    "Your task: visualise the annual and/or monthly means from the ``df_wind`` data from above, using pandas and seaborn together with matplotlib.\n",
    "\n",
    "* You will probably want to resample the data, e.g. with ``df_wind.resample('12M').mean()``\n",
    "* You can use pandas directly with ``df.plot(...)``\n",
    "* For example, you could try a barplot http://pandas.pydata.org/pandas-docs/stable/visualization.html#bar-plots\n",
    "* Seaborn also has a slightly different approach to getting a barplot done: http://seaborn.pydata.org/examples/horizontal_barplot.html \n",
    "* See other examples at http://seaborn.pydata.org/examples/index.html\n"
   ]
  },
  {
   "cell_type": "code",
   "execution_count": null,
   "metadata": {
    "collapsed": true
   },
   "outputs": [],
   "source": [
    "# Example: Using pandas to get annual mean stacked barplot for the years 2012-2016\n",
    "\n",
    "with sns.axes_style('ticks'):\n",
    "    df_wind.resample('12M').mean().loc['2012':].plot.barh(stacked=True, colormap='viridis')\n",
    "    \n",
    "sns.despine()\n",
    "\n",
    "# What else can you do?\n",
    "# Different type of visualisation. Add in monthly means?\n",
    "# Or clean up the y-axis?"
   ]
  },
  {
   "cell_type": "markdown",
   "metadata": {},
   "source": [
    "## More on palettes and color choice"
   ]
  },
  {
   "cell_type": "markdown",
   "metadata": {},
   "source": [
    "Seaborn makes life easier when choosing colors, and creating custom palettes"
   ]
  },
  {
   "cell_type": "code",
   "execution_count": null,
   "metadata": {
    "collapsed": true
   },
   "outputs": [],
   "source": [
    "sns.color_palette('viridis')"
   ]
  },
  {
   "cell_type": "code",
   "execution_count": null,
   "metadata": {
    "collapsed": true
   },
   "outputs": [],
   "source": [
    "sns.palplot(sns.color_palette('viridis'))"
   ]
  },
  {
   "cell_type": "code",
   "execution_count": null,
   "metadata": {
    "collapsed": true
   },
   "outputs": [],
   "source": [
    "sns.palplot(sns.color_palette('hls', 8))"
   ]
  },
  {
   "cell_type": "markdown",
   "metadata": {},
   "source": [
    "You can use http://colorbrewer2.org/ colors easily too."
   ]
  },
  {
   "cell_type": "code",
   "execution_count": null,
   "metadata": {
    "collapsed": true
   },
   "outputs": [],
   "source": [
    "sns.palplot(sns.color_palette('YlGnBu', 6))"
   ]
  },
  {
   "cell_type": "code",
   "execution_count": null,
   "metadata": {
    "collapsed": true
   },
   "outputs": [],
   "source": [
    "sns.palplot(sns.color_palette('YlGnBu_r', 6))"
   ]
  },
  {
   "cell_type": "markdown",
   "metadata": {},
   "source": [
    "Seaborn has plenty more functionality to choose the right color palette:\n",
    "\n",
    "http://seaborn.pydata.org/tutorial/color_palettes.html"
   ]
  },
  {
   "cell_type": "markdown",
   "metadata": {},
   "source": [
    "## Plotting maps"
   ]
  },
  {
   "cell_type": "code",
   "execution_count": null,
   "metadata": {
    "collapsed": true
   },
   "outputs": [],
   "source": [
    "import cartopy\n",
    "import cartopy.crs as ccrs"
   ]
  },
  {
   "cell_type": "code",
   "execution_count": null,
   "metadata": {
    "collapsed": true
   },
   "outputs": [],
   "source": [
    "map_proj = ccrs.PlateCarree(central_longitude=0.0, globe=None)\n",
    "\n",
    "fig = plt.figure(figsize=(15, 15))\n",
    "ax = plt.axes(projection=map_proj)\n",
    "\n",
    "\n",
    "# ax.add_feature(cartopy.feature.LAND)\n",
    "# ax.add_feature(cartopy.feature.OCEAN)\n",
    "# ax.add_feature(cartopy.feature.COASTLINE, edgecolor='#D3B962')\n",
    "# ax.add_feature(cartopy.feature.BORDERS, linestyle=':', edgecolor='#D3B962')"
   ]
  },
  {
   "cell_type": "code",
   "execution_count": null,
   "metadata": {
    "collapsed": true
   },
   "outputs": [],
   "source": [
    "df_plants_eu = pd.read_csv('./data/conventional_power_plants_EU.csv', index_col=0)\n",
    "df_plants_de = pd.read_csv('./data/conventional_power_plants_DE.csv', index_col=0)\n",
    "\n",
    "df_plants_eu = df_plants_eu.dropna(subset=['lat', 'lon'], how='any')\n",
    "df_plants_de = df_plants_de.dropna(subset=['lat', 'lon'], how='any')"
   ]
  },
  {
   "cell_type": "code",
   "execution_count": null,
   "metadata": {
    "collapsed": true
   },
   "outputs": [],
   "source": [
    "df_plants_eu.head(2)"
   ]
  },
  {
   "cell_type": "code",
   "execution_count": null,
   "metadata": {
    "collapsed": true
   },
   "outputs": [],
   "source": [
    "map_proj = ccrs.PlateCarree(central_longitude=0.0, globe=None)\n",
    "\n",
    "fig = plt.figure(figsize=(10, 10))\n",
    "ax = plt.axes(projection=map_proj)\n",
    "\n",
    "ax.add_feature(cartopy.feature.LAND)\n",
    "ax.add_feature(cartopy.feature.OCEAN)\n",
    "\n",
    "# Plot all EU plants in blue\n",
    "plt.plot(\n",
    "    df_plants_eu.lon, df_plants_eu.lat,\n",
    "    color='blue', lw=0, marker='o',\n",
    "    transform=map_proj\n",
    ")\n",
    "\n",
    "# Plot all German plants in red\n",
    "plt.plot(\n",
    "    df_plants_de.lon, df_plants_de.lat,\n",
    "    color='red', lw=0, marker='o',\n",
    "    transform=map_proj\n",
    ")"
   ]
  },
  {
   "cell_type": "code",
   "execution_count": null,
   "metadata": {
    "collapsed": true
   },
   "outputs": [],
   "source": [
    "# You can easily add custom features, e.g. higher-resolution Natural Earth layers\n",
    "\n",
    "fig = plt.figure(figsize=(20, 20))\n",
    "ax = plt.axes(projection=ccrs.PlateCarree(central_longitude=0.0, globe=None))\n",
    "\n",
    "ocean_50m = cartopy.feature.NaturalEarthFeature(\n",
    "    'physical', 'ocean', '50m',\n",
    "    facecolor=cartopy.feature.COLORS['water']\n",
    ")\n",
    "\n",
    "ax.add_feature(ocean_50m)"
   ]
  },
  {
   "cell_type": "code",
   "execution_count": null,
   "metadata": {
    "collapsed": true
   },
   "outputs": [],
   "source": [
    "# Or a stock physical map background\n",
    "\n",
    "fig = plt.figure(figsize=(20, 20))\n",
    "ax = plt.axes(projection=ccrs.PlateCarree(central_longitude=0.0, globe=None))\n",
    "\n",
    "ax.stock_img()"
   ]
  },
  {
   "cell_type": "markdown",
   "metadata": {},
   "source": [
    "## Further reading\n",
    "\n",
    "Other examples:\n",
    "    \n",
    "    \n",
    "* Using Enipedia data to map the world's nuclear power plants (2014): https://www.pfenninger.org/posts/mapping-the-worlds-nuclear-power-plants"
   ]
  }
 ],
 "metadata": {
  "kernelspec": {
   "display_name": "Python 3",
   "language": "python",
   "name": "python3"
  },
  "language_info": {
   "codemirror_mode": {
    "name": "ipython",
    "version": 3
   },
   "file_extension": ".py",
   "mimetype": "text/x-python",
   "name": "python",
   "nbconvert_exporter": "python",
   "pygments_lexer": "ipython3",
   "version": "3.5.3"
  },
  "toc": {
   "colors": {
    "hover_highlight": "#DAA520",
    "running_highlight": "#FF0000",
    "selected_highlight": "#FFD700"
   },
   "moveMenuLeft": true,
   "nav_menu": {
    "height": "12px",
    "width": "252px"
   },
   "navigate_menu": true,
   "number_sections": true,
   "sideBar": true,
   "threshold": 4,
   "toc_cell": true,
   "toc_section_display": "block",
   "toc_window_display": false,
   "widenNotebook": false
  }
 },
 "nbformat": 4,
 "nbformat_minor": 2
}
